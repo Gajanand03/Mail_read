{
 "cells": [
  {
   "cell_type": "code",
   "execution_count": 5,
   "metadata": {},
   "outputs": [],
   "source": [
    "import imaplib\n",
    "import email"
   ]
  },
  {
   "cell_type": "code",
   "execution_count": 9,
   "metadata": {},
   "outputs": [],
   "source": [
    "def get_unread_emails():\n",
    "    imap_server = imaplib.IMAP4_SSL('imap.gmail.com')\n",
    "    imap_server.login(login, password)\n",
    "    imap_server.select('INBOX')\n",
    "    _, messages = imap_server.search(None, 'UNSEEN')\n",
    "\n",
    "    for message in messages[0].split():\n",
    "        print(f'Processing message {message}...')\n",
    "        \n",
    "        _, msg_data = imap_server.fetch(message, '(BODY[HEADER])')\n",
    "        email_message = email.message_from_bytes(msg_data[0][1])\n",
    "\n",
    "        subject = email_message['Subject']\n",
    "        print(f'Subject: {subject}')\n",
    "        \n",
    "        sender = email_message['From']\n",
    "        print(f'Sender: {sender}')\n",
    "        \n",
    "        if email_message.get_content_maintype() == 'multipart':\n",
    "            print('YES')\n",
    "            for part in email_message.walk():\n",
    "                print(\"OK\")\n",
    "                if part.get_content_maintype() == 'multipart':\n",
    "                    continue\n",
    "                if part.get('Content-Disposition') is None:\n",
    "                    continue\n",
    "                print(part.get_filename())\n",
    "                filename = part.get_filename()\n",
    "                if filename:\n",
    "                    print(filename)\n",
    "                    with open(filename, 'wb') as f:\n",
    "                        f.write(part.get_payload(decode=True))\n",
    "                    print(f'Saved attachment {filename}')\n",
    "                else:\n",
    "                    print('No filename found for attachment')\n",
    "                \n",
    "    \n",
    "    imap_server.close()\n",
    "    imap_server.logout()\n",
    "\n",
    "    print('Unread emails processed and attachments saved')\n"
   ]
  },
  {
   "cell_type": "code",
   "execution_count": 10,
   "metadata": {},
   "outputs": [
    {
     "name": "stdout",
     "output_type": "stream",
     "text": [
      "Processing message b'17'...\n",
      "Subject: fsdafsjdl\n",
      "Sender: Gajanand Mukhiya <mukhiyagajanand@gmail.com>\n",
      "YES\n",
      "OK\n",
      "Unread emails processed and attachments saved\n"
     ]
    }
   ],
   "source": [
    "get_unread_emails()"
   ]
  },
  {
   "attachments": {},
   "cell_type": "markdown",
   "metadata": {},
   "source": [
    "# This one will work with file also"
   ]
  },
  {
   "cell_type": "code",
   "execution_count": 14,
   "metadata": {},
   "outputs": [],
   "source": [
    "import email\n",
    "import imaplib\n",
    "import os\n",
    "\n",
    "def get_unread_emails():\n",
    "    imap_server = imaplib.IMAP4_SSL('imap.gmail.com')\n",
    "\n",
    "    # Login to mail server\n",
    "    imap_server.login(login, password)\n",
    "\n",
    "    # Select the mailbox\n",
    "    imap_server.select('INBOX')\n",
    "\n",
    "    # Search for unread emails\n",
    "    _, messages = imap_server.search(None, 'UNSEEN')\n",
    "\n",
    "    # Iterate through unread emails\n",
    "    for message in messages[0].split():\n",
    "        print(f'Processing message {message}...')\n",
    "        \n",
    "        # Fetch the email message by ID\n",
    "        _, msg_data = imap_server.fetch(message, '(RFC822)')\n",
    "        email_message = email.message_from_bytes(msg_data[0][1])\n",
    "\n",
    "        # Get the email subject\n",
    "        subject = email_message['Subject']\n",
    "        print(f'Subject: {subject}')\n",
    "        \n",
    "        # Get the sender email address\n",
    "        sender = email_message['From']\n",
    "        print(f'Sender: {sender}')\n",
    "        \n",
    "        # Check if the email has any attachments\n",
    "        for part in email_message.walk():\n",
    "            if part.get_content_maintype() == 'multipart':\n",
    "                continue\n",
    "            if part.get('Content-Disposition') is None:\n",
    "                continue\n",
    "            filename = part.get_filename()\n",
    "            if filename:\n",
    "                # Save the attachment\n",
    "                filepath = os.path.join('./attachments', filename)\n",
    "                with open(filepath, 'wb') as f:\n",
    "                    f.write(part.get_payload(decode=True))\n",
    "                print(f'Saved attachment {filename}')\n",
    "                \n",
    "    # Close the mailbox\n",
    "    imap_server.close()\n",
    "\n",
    "    # Logout from the mail server\n",
    "    imap_server.logout()\n",
    "\n",
    "    print('Unread emails processed and attachments saved')\n"
   ]
  },
  {
   "cell_type": "code",
   "execution_count": 15,
   "metadata": {},
   "outputs": [
    {
     "name": "stdout",
     "output_type": "stream",
     "text": [
      "Processing message b'19'...\n",
      "Subject: tuytuyty\n",
      "Sender: Gajanand Mukhiya <mukhiyagajanand@gmail.com>\n",
      "Saved attachment Python new Pj.pdf\n",
      "Unread emails processed and attachments saved\n"
     ]
    }
   ],
   "source": [
    "get_unread_emails()"
   ]
  }
 ],
 "metadata": {
  "kernelspec": {
   "display_name": "Python 3",
   "language": "python",
   "name": "python3"
  },
  "language_info": {
   "codemirror_mode": {
    "name": "ipython",
    "version": 3
   },
   "file_extension": ".py",
   "mimetype": "text/x-python",
   "name": "python",
   "nbconvert_exporter": "python",
   "pygments_lexer": "ipython3",
   "version": "3.10.10"
  },
  "orig_nbformat": 4
 },
 "nbformat": 4,
 "nbformat_minor": 2
}
